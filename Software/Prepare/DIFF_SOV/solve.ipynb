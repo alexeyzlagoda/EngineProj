{
 "cells": [
  {
   "cell_type": "code",
   "execution_count": 271,
   "metadata": {},
   "outputs": [],
   "source": [
    "from tqdm import tqdm\n",
    "import numpy as np\n",
    "import matplotlib.pyplot as plt\n",
    "import scipy"
   ]
  },
  {
   "cell_type": "code",
   "execution_count": 272,
   "metadata": {},
   "outputs": [],
   "source": [
    "\n",
    "duration = 1"
   ]
  },
  {
   "cell_type": "code",
   "execution_count": 273,
   "metadata": {},
   "outputs": [],
   "source": [
    "k_B =  1.380649e-23 / 8.6173E-11 #J/MeV\n",
    "E_fus = 17.6 #MeV\n",
    "aplph = 7.2973525693e-3\n",
    "r_e = 2.81794092e-15\n",
    "m_e = 9.10938215e-31\n",
    "c = 3*1e8\n",
    "Z_eff = 2\n",
    "T = 1e-6\n",
    "n_e = 2e18\n",
    "n_T = n_e/2\n",
    "V = 1\n",
    "n = n_e*2\n",
    "T_0 = 1e-9\n",
    "a = 1.5*n*k_B*V\n",
    "b = 0.2*n_T*n_T* 1.1* 10e-24*E_fus*V\n",
    "c = 8.5*aplph* r_e*r_e* m_e*c**3*Z_eff*Z_eff*n_e*n_e *np.sqrt(k_B/(m_e*c*c))*V \n",
    "P = 3e3\n",
    "Tau = 1"
   ]
  },
  {
   "cell_type": "code",
   "execution_count": null,
   "metadata": {},
   "outputs": [],
   "source": []
  },
  {
   "cell_type": "code",
   "execution_count": 274,
   "metadata": {},
   "outputs": [
    {
     "name": "stdout",
     "output_type": "stream",
     "text": [
      "961309.6909704896\n",
      "38720000000000.0\n",
      "270.96363541045883\n"
     ]
    }
   ],
   "source": [
    "print(a)\n",
    "print(b)\n",
    "print(c)\n"
   ]
  },
  {
   "cell_type": "code",
   "execution_count": 275,
   "metadata": {},
   "outputs": [],
   "source": [
    "def ENERGY_TEMP(T, t, a, b, c, P, Tau):\n",
    "    dT_dt = P/a + (b/a)*T*T - np.sqrt(T) * c/a - T/Tau\n",
    "    return dT_dt\n"
   ]
  },
  {
   "cell_type": "code",
   "execution_count": 276,
   "metadata": {},
   "outputs": [],
   "source": [
    "def Integrator(duration, T_0, a,b,c,P):\n",
    "    Time = np.linspace(0,duration, int(100000))\n",
    "    Temp = scipy.integrate.odeint(ENERGY_TEMP, T_0, Time, args=(a,b,c,P, Tau), full_output=0)\n",
    "    return Time, Temp"
   ]
  },
  {
   "cell_type": "code",
   "execution_count": 277,
   "metadata": {},
   "outputs": [
    {
     "name": "stderr",
     "output_type": "stream",
     "text": [
      "C:\\Users\\virdg\\AppData\\Local\\Temp\\ipykernel_23220\\195177650.py:3: ODEintWarning: Excess work done on this call (perhaps wrong Dfun type). Run with full_output = 1 to get quantitative information.\n",
      "  Temp = scipy.integrate.odeint(ENERGY_TEMP, T_0, Time, args=(a,b,c,P, Tau), full_output=0)\n"
     ]
    }
   ],
   "source": [
    "Time, Temp = Integrator(duration, T_0, a,b,c,P )"
   ]
  },
  {
   "cell_type": "code",
   "execution_count": 278,
   "metadata": {},
   "outputs": [
    {
     "name": "stdout",
     "output_type": "stream",
     "text": [
      "[0.00000e+00 1.00001e-05 2.00002e-05 ... 9.99980e-01 9.99990e-01\n",
      " 1.00000e+00]\n",
      "[[1.00000000e-09]\n",
      " [3.22074045e-08]\n",
      " [6.34157266e-08]\n",
      " ...\n",
      " [0.00000000e+00]\n",
      " [0.00000000e+00]\n",
      " [0.00000000e+00]]\n"
     ]
    }
   ],
   "source": [
    "print(Time)\n",
    "Temp = (Temp)\n",
    "print(Temp)"
   ]
  },
  {
   "cell_type": "code",
   "execution_count": 279,
   "metadata": {},
   "outputs": [
    {
     "data": {
      "image/png": "[encoded data removed]",
      "text/plain": [
       "<Figure size 640x480 with 1 Axes>"
      ]
     },
     "metadata": {},
     "output_type": "display_data"
    }
   ],
   "source": [
    "plt.plot(Time, Temp, color=\"r\", label = \"Test\")\n",
    "plt.xscale(\"log\")\n",
    "plt.yscale(\"log\")\n",
    "plt.xlabel(\"time, s\")\n",
    "plt.ylabel(\"Temp, MeV\")\n",
    "plt.show()"
   ]
  }
 ],
 "metadata": {
  "kernelspec": {
   "display_name": "Python 3",
   "language": "python",
   "name": "python3"
  },
  "language_info": {
   "codemirror_mode": {
    "name": "ipython",
    "version": 3
   },
   "file_extension": ".py",
   "mimetype": "text/x-python",
   "name": "python",
   "nbconvert_exporter": "python",
   "pygments_lexer": "ipython3",
   "version": "3.10.7"
  }
 },
 "nbformat": 4,
 "nbformat_minor": 2
}
